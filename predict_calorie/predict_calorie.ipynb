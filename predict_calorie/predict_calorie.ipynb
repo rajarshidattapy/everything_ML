{
  "nbformat": 4,
  "nbformat_minor": 0,
  "metadata": {
    "colab": {
      "provenance": []
    },
    "kernelspec": {
      "name": "python3",
      "display_name": "Python 3"
    },
    "language_info": {
      "name": "python"
    }
  },
  "cells": [
    {
      "cell_type": "code",
      "source": [
        "# 📦 Import Libraries\n",
        "import pandas as pd\n",
        "import numpy as np\n",
        "from sklearn.ensemble import RandomForestRegressor\n",
        "from sklearn.model_selection import train_test_split, GridSearchCV\n",
        "from sklearn.metrics import mean_squared_log_error"
      ],
      "metadata": {
        "id": "qgp2TaamW1jJ"
      },
      "execution_count": 17,
      "outputs": []
    },
    {
      "cell_type": "code",
      "source": [
        "\n",
        "train = pd.read_csv(\"/content/train.csv\")\n",
        "test = pd.read_csv(\"/content/test.csv\")\n",
        "\n",
        "# 🎯 Separate features and target\n",
        "X = train.drop(columns=[\"id\", \"Calories\"])\n",
        "y = train[\"Calories\"]\n",
        "X_test = test.drop(columns=[\"id\"])\n",
        "\n",
        "# 🔄 One-Hot Encoding for categorical variables\n",
        "X_encoded = pd.get_dummies(X, drop_first=True)\n",
        "X_test_encoded = pd.get_dummies(X_test, drop_first=True)\n",
        "\n",
        "# ⚙️ Align test set to training set columns\n",
        "X_test_encoded = X_test_encoded.reindex(columns=X_encoded.columns, fill_value=0)\n"
      ],
      "metadata": {
        "id": "83F8U2NsW3Hs"
      },
      "execution_count": 19,
      "outputs": []
    },
    {
      "cell_type": "code",
      "source": [
        "# 🔀 Train-Test Split\n",
        "X_train, X_val, y_train, y_val = train_test_split(X_encoded, y, test_size=0.2, random_state=42)\n",
        "\n",
        "# 🌲 Random Forest with GridSearchCV\n",
        "rf = RandomForestRegressor(random_state=42)\n",
        "\n"
      ],
      "metadata": {
        "id": "LZFJQbLsZIz2"
      },
      "execution_count": 20,
      "outputs": []
    },
    {
      "cell_type": "code",
      "source": [
        "param_grid = {\n",
        "    'n_estimators': [100, 200],\n",
        "    'max_depth': [10, 20, None],\n",
        "    'min_samples_split': [2, 5],\n",
        "    'min_samples_leaf': [1, 2]\n",
        "}\n",
        "\n",
        "grid_search = GridSearchCV(\n",
        "    estimator=rf,\n",
        "    param_grid=param_grid,\n",
        "    cv=3,\n",
        "    scoring='neg_mean_squared_log_error',\n",
        "    verbose=1,\n",
        "    n_jobs=-1\n",
        ")"
      ],
      "metadata": {
        "id": "j3pG0b4HZOED"
      },
      "execution_count": 21,
      "outputs": []
    },
    {
      "cell_type": "code",
      "source": [
        "\n",
        "# 🚂 Train the model\n",
        "grid_search.fit(X_train, y_train)\n",
        "best_model = grid_search.best_estimator_\n"
      ],
      "metadata": {
        "colab": {
          "base_uri": "https://localhost:8080/"
        },
        "id": "fw6duktOZPc2",
        "outputId": "a985c2f5-338b-4b3f-d93a-aefc52c0442c"
      },
      "execution_count": null,
      "outputs": [
        {
          "output_type": "stream",
          "name": "stdout",
          "text": [
            "Fitting 3 folds for each of 24 candidates, totalling 72 fits\n"
          ]
        }
      ]
    },
    {
      "cell_type": "code",
      "source": [
        "\n",
        "# ✅ Predict and Evaluate on Validation Set\n",
        "y_val_pred = best_model.predict(X_val)"
      ],
      "metadata": {
        "id": "WW7XctyhZQ5i"
      },
      "execution_count": null,
      "outputs": []
    },
    {
      "cell_type": "code",
      "source": [
        "\n",
        "def rmsle(y_true, y_pred):\n",
        "    return np.sqrt(mean_squared_log_error(y_true, y_pred))\n",
        "\n",
        "\n",
        "print(\"✅ Best Parameters:\", grid_search.best_params_)\n",
        "print(\"📉 Validation RMSLE:\", rmsle(y_val, y_val_pred))"
      ],
      "metadata": {
        "id": "QfF8MGBuZSPd"
      },
      "execution_count": null,
      "outputs": []
    },
    {
      "cell_type": "code",
      "source": [
        "# 🧪 Predict on Test Set\n",
        "y_test_pred = best_model.predict(X_test_encoded)\n",
        "\n",
        "# 📤 Prepare Submission File\n",
        "submission = pd.DataFrame({\n",
        "    \"id\": test[\"id\"],\n",
        "    \"Calories\": y_test_pred\n",
        "})\n",
        "submission.to_csv(\"submission.csv\", index=False)\n",
        "\n",
        "print(\"🚀 Submission file created: submission.csv\")"
      ],
      "metadata": {
        "id": "q888cZcQZWd2"
      },
      "execution_count": null,
      "outputs": []
    }
  ]
}