{
 "cells": [
  {
   "cell_type": "code",
   "execution_count": 1,
   "metadata": {},
   "outputs": [],
   "source": [
    "import os\n",
    "import json\n",
    "import requests\n",
    "\n",
    "from azureml.core import Workspace\n",
    "from azureml.core.model import Model\n",
    "from azureml.core.environment import Environment\n",
    "from azureml.core.conda_dependencies import CondaDependencies\n",
    "from azureml.core.model import InferenceConfig\n",
    "from azureml.core.webservice import AciWebservice, Webservice"
   ]
  },
  {
   "cell_type": "code",
   "execution_count": 3,
   "metadata": {},
   "outputs": [],
   "source": [
    "# loading the configuration file - standard way -use .env file and load_dotenv from python -dotenv module\n",
    "congig_file_path=\"config.json\"\n",
    "\n",
    "# Read JSON data into a dictionary\n",
    "with open(congig_file_path,'r') as file:\n",
    "    data = json.load(file)\n",
    "    \n",
    "subscription_id = data[\"subscription_id\"]\n",
    "resource_group = data[\"resource_group\"]\n",
    "Workspace_name = data[\"Workspace_name\"]\n",
    "region = data[\"region\"]    "
   ]
  },
  {
   "cell_type": "code",
   "execution_count": 4,
   "metadata": {},
   "outputs": [
    {
     "name": "stdout",
     "output_type": "stream",
     "text": [
      "diamond-price-prediction\n",
      "mysecond\n",
      "centralindia\n"
     ]
    }
   ],
   "source": [
    "print(resource_group)\n",
    "print(Workspace_name)\n",
    "print(region)"
   ]
  },
  {
   "cell_type": "code",
   "execution_count": 5,
   "metadata": {},
   "outputs": [
    {
     "name": "stderr",
     "output_type": "stream",
     "text": [
      "UserWarning: The resource group doesn't exist or was not provided. AzureML SDK is creating a resource group=diamond-price-prediction in location=centralindia using subscription=f6b351b1-a0ba-46e9-bad7-62dd209054fb.\n"
     ]
    },
    {
     "name": "stdout",
     "output_type": "stream",
     "text": [
      "Deploying KeyVault with name mysecondkeyvault3209e4ee.\n",
      "Deploying AppInsights with name mysecondinsights05dcb079.\n",
      "Deployed AppInsights with name mysecondinsights05dcb079. Took 4.01 seconds.\n",
      "Deploying StorageAccount with name mysecondstorage83db6df1c.\n",
      "Deployed KeyVault with name mysecondkeyvault3209e4ee. Took 20.89 seconds.\n",
      "Deploying Workspace with name mysecond.\n",
      "Deployed StorageAccount with name mysecondstorage83db6df1c. Took 32.03 seconds.\n",
      "Deployed Workspace with name mysecond. Took 35.25 seconds.\n",
      "Workspacemysecond created\n"
     ]
    }
   ],
   "source": [
    "## create workspace\n",
    "ws = Workspace.create(\n",
    "    name=Workspace_name,\n",
    "    subscription_id=subscription_id,\n",
    "    resource_group=resource_group,\n",
    "    location=region)\n",
    "print(f\"Workspace{Workspace_name} created\")"
   ]
  },
  {
   "cell_type": "code",
   "execution_count": 6,
   "metadata": {},
   "outputs": [
    {
     "data": {
      "text/plain": [
       "'C:/Users/ashwi/OneDrive/Desktop/project/diamondPricePredictor/artifacts/model.pkl'"
      ]
     },
     "execution_count": 6,
     "metadata": {},
     "output_type": "execute_result"
    }
   ],
   "source": [
    "## path of model\n",
    "model_path='C:/Users/ashwi/OneDrive/Desktop/project/diamondPricePredictor/artifacts/model.pkl'\n",
    "model_path"
   ]
  },
  {
   "cell_type": "code",
   "execution_count": 7,
   "metadata": {},
   "outputs": [],
   "source": [
    "model_name='diamond_price_prediction'"
   ]
  },
  {
   "cell_type": "code",
   "execution_count": 8,
   "metadata": {},
   "outputs": [
    {
     "name": "stdout",
     "output_type": "stream",
     "text": [
      "Registering model diamond_price_prediction\n"
     ]
    }
   ],
   "source": [
    "#Register the model in Azure machine learning\n",
    "registered_model =Model.register(model_path=model_path,model_name=model_name,workspace=ws)"
   ]
  },
  {
   "cell_type": "code",
   "execution_count": 9,
   "metadata": {},
   "outputs": [],
   "source": [
    "# Create a Conda environment for your scikit-learn model\n",
    "conda_env = Environment('my-conda-env')\n",
    "conda_env.python.conda_dependencies = CondaDependencies.create(conda_packages=['scikit-learn'])"
   ]
  },
  {
   "cell_type": "code",
   "execution_count": 10,
   "metadata": {},
   "outputs": [],
   "source": [
    "# create an InferenceConfig\n",
    "inference_config = InferenceConfig(entry_script='C:/Users/ashwi/OneDrive/Desktop/project/diamondPricePredictor/score.py',environment=conda_env)"
   ]
  },
  {
   "cell_type": "code",
   "execution_count": 11,
   "metadata": {},
   "outputs": [],
   "source": [
    "# Specify deployment configuration for ACI\n",
    "aci_config = AciWebservice.deploy_configuration(cpu_cores=1,memory_gb=1)"
   ]
  },
  {
   "cell_type": "code",
   "execution_count": 12,
   "metadata": {},
   "outputs": [
    {
     "name": "stderr",
     "output_type": "stream",
     "text": [
      "C:\\Users\\ashwi\\AppData\\Local\\Temp\\ipykernel_8848\\2444106708.py:1: FutureWarning: azureml.core.model:\n",
      "To leverage new model deployment capabilities, AzureML recommends using CLI/SDK v2 to deploy models as online endpoint, \n",
      "please refer to respective documentations \n",
      "https://docs.microsoft.com/azure/machine-learning/how-to-deploy-managed-online-endpoints /\n",
      "https://docs.microsoft.com/azure/machine-learning/how-to-attach-kubernetes-anywhere \n",
      "For more information on migration, see https://aka.ms/acimoemigration \n",
      "To disable CLI/SDK v1 deprecation warning set AZUREML_LOG_DEPRECATION_WARNING_ENABLED to 'False'\n",
      "  service =Model.deploy(workspace=ws,\n"
     ]
    },
    {
     "name": "stdout",
     "output_type": "stream",
     "text": [
      "Tips: You can try get_logs(): https://aka.ms/debugimage#dockerlog or local deployment: https://aka.ms/debugimage#debug-locally to debug if deployment takes longer than 10 minutes.\n",
      "Running\n",
      "2024-10-17 18:51:19+05:30 Creating Container Registry if not exists..\n",
      "2024-10-17 19:01:20+05:30 Registering the environment..\n",
      "2024-10-17 19:01:22+05:30 Building image..\n",
      "2024-10-17 19:09:06+05:30 Generating deployment configuration..\n",
      "2024-10-17 19:09:08+05:30 Submitting deployment to compute..\n",
      "2024-10-17 19:09:17+05:30 Checking the status of deployment diamond-price-prediction-service..\n",
      "2024-10-17 19:10:35+05:30 Checking the status of inference endpoint diamond-price-prediction-service.\n",
      "Failed\n"
     ]
    },
    {
     "name": "stderr",
     "output_type": "stream",
     "text": [
      "Service deployment polling reached non-successful terminal state, current service state: Failed\n",
      "Operation ID: 80899236-346d-4f6d-862e-a48e28ffef46\n",
      "More information can be found using '.get_logs()'\n",
      "Error:\n",
      "{\n",
      "  \"code\": \"AciDeploymentFailed\",\n",
      "  \"statusCode\": 400,\n",
      "  \"message\": \"Aci Deployment failed with exception: Your container application crashed. This may be caused by errors in your scoring file's init() function.\n",
      "\t1. Please check the logs for your container instance: diamond-price-prediction-service. From the AML SDK, you can run print(service.get_logs()) if you have service object to fetch the logs.\n",
      "\t2. You can interactively debug your scoring file locally. Please refer to https://docs.microsoft.com/azure/machine-learning/how-to-debug-visual-studio-code#debug-and-troubleshoot-deployments for more information.\n",
      "\t3. You can also try to run image 231dc1a3d4864dd8bb5a3ebd8b99ae0e.azurecr.io/azureml/azureml_788d81cd6b656803aa87f41300150b20 locally. Please refer to https://aka.ms/debugimage#service-launch-fails for more information.\",\n",
      "  \"details\": [\n",
      "    {\n",
      "      \"code\": \"CrashLoopBackOff\",\n",
      "      \"message\": \"Your container application crashed. This may be caused by errors in your scoring file's init() function.\n",
      "\t1. Please check the logs for your container instance: diamond-price-prediction-service. From the AML SDK, you can run print(service.get_logs()) if you have service object to fetch the logs.\n",
      "\t2. You can interactively debug your scoring file locally. Please refer to https://docs.microsoft.com/azure/machine-learning/how-to-debug-visual-studio-code#debug-and-troubleshoot-deployments for more information.\n",
      "\t3. You can also try to run image 231dc1a3d4864dd8bb5a3ebd8b99ae0e.azurecr.io/azureml/azureml_788d81cd6b656803aa87f41300150b20 locally. Please refer to https://aka.ms/debugimage#service-launch-fails for more information.\"\n",
      "    },\n",
      "    {\n",
      "      \"code\": \"AciDeploymentFailed\",\n",
      "      \"message\": \"Your container application crashed. Please follow the steps to debug:\n",
      "\t1. From the AML SDK, you can run print(service.get_logs()) if you have service object to fetch the logs. Please refer to https://aka.ms/debugimage#dockerlog for more information.\n",
      "\t2. If your container application crashed. This may be caused by errors in your scoring file's init() function. You can try debugging locally first. Please refer to https://aka.ms/debugimage#debug-locally for more information.\n",
      "\t3. You can also interactively debug your scoring file locally. Please refer to https://docs.microsoft.com/azure/machine-learning/how-to-debug-visual-studio-code#debug-and-troubleshoot-deployments for more information.\n",
      "\t4. View the diagnostic events to check status of container, it may help you to debug the issue.\n",
      "\"RestartCount\": 3\n",
      "\"CurrentState\": {\"state\":\"Waiting\",\"startTime\":null,\"exitCode\":null,\"finishTime\":null,\"detailStatus\":\"CrashLoopBackOff: Back-off restarting failed\"}\n",
      "\"PreviousState\": {\"state\":\"Terminated\",\"startTime\":\"2024-10-17T13:41:48.532Z\",\"exitCode\":111,\"finishTime\":\"2024-10-17T13:41:56.026Z\",\"detailStatus\":\"Error\"}\n",
      "\"Events\":\n",
      "{\"count\":1,\"firstTimestamp\":\"2024-10-17T13:39:20Z\",\"lastTimestamp\":\"2024-10-17T13:39:20Z\",\"name\":\"Pulling\",\"message\":\"pulling image \"231dc1a3d4864dd8bb5a3ebd8b99ae0e.azurecr.io/azureml/azureml_788d81cd6b656803aa87f41300150b20@sha256:bfd33542c1eddd9c52922c825cdcd127f8bc3fd7bf37381c4429f418d6288e70\"\",\"type\":\"Normal\"}\n",
      "{\"count\":1,\"firstTimestamp\":\"2024-10-17T13:39:55Z\",\"lastTimestamp\":\"2024-10-17T13:39:55Z\",\"name\":\"Pulled\",\"message\":\"Successfully pulled image \"231dc1a3d4864dd8bb5a3ebd8b99ae0e.azurecr.io/azureml/azureml_788d81cd6b656803aa87f41300150b20@sha256:bfd33542c1eddd9c52922c825cdcd127f8bc3fd7bf37381c4429f418d6288e70\"\",\"type\":\"Normal\"}\n",
      "{\"count\":4,\"firstTimestamp\":\"2024-10-17T13:40:17Z\",\"lastTimestamp\":\"2024-10-17T13:41:48Z\",\"name\":\"Started\",\"message\":\"Started container\",\"type\":\"Normal\"}\n",
      "{\"count\":3,\"firstTimestamp\":\"2024-10-17T13:40:25Z\",\"lastTimestamp\":\"2024-10-17T13:41:16Z\",\"name\":\"Killing\",\"message\":\"Container diamond-price-prediction-service terminated with ExitCode 111.\",\"type\":\"Normal\"}\n",
      "\"\n",
      "    }\n",
      "  ]\n",
      "}\n",
      "\n"
     ]
    },
    {
     "ename": "WebserviceException",
     "evalue": "WebserviceException:\n\tMessage: Service deployment polling reached non-successful terminal state, current service state: Failed\nOperation ID: 80899236-346d-4f6d-862e-a48e28ffef46\nMore information can be found using '.get_logs()'\nError:\n{\n  \"code\": \"AciDeploymentFailed\",\n  \"statusCode\": 400,\n  \"message\": \"Aci Deployment failed with exception: Your container application crashed. This may be caused by errors in your scoring file's init() function.\n\t1. Please check the logs for your container instance: diamond-price-prediction-service. From the AML SDK, you can run print(service.get_logs()) if you have service object to fetch the logs.\n\t2. You can interactively debug your scoring file locally. Please refer to https://docs.microsoft.com/azure/machine-learning/how-to-debug-visual-studio-code#debug-and-troubleshoot-deployments for more information.\n\t3. You can also try to run image 231dc1a3d4864dd8bb5a3ebd8b99ae0e.azurecr.io/azureml/azureml_788d81cd6b656803aa87f41300150b20 locally. Please refer to https://aka.ms/debugimage#service-launch-fails for more information.\",\n  \"details\": [\n    {\n      \"code\": \"CrashLoopBackOff\",\n      \"message\": \"Your container application crashed. This may be caused by errors in your scoring file's init() function.\n\t1. Please check the logs for your container instance: diamond-price-prediction-service. From the AML SDK, you can run print(service.get_logs()) if you have service object to fetch the logs.\n\t2. You can interactively debug your scoring file locally. Please refer to https://docs.microsoft.com/azure/machine-learning/how-to-debug-visual-studio-code#debug-and-troubleshoot-deployments for more information.\n\t3. You can also try to run image 231dc1a3d4864dd8bb5a3ebd8b99ae0e.azurecr.io/azureml/azureml_788d81cd6b656803aa87f41300150b20 locally. Please refer to https://aka.ms/debugimage#service-launch-fails for more information.\"\n    },\n    {\n      \"code\": \"AciDeploymentFailed\",\n      \"message\": \"Your container application crashed. Please follow the steps to debug:\n\t1. From the AML SDK, you can run print(service.get_logs()) if you have service object to fetch the logs. Please refer to https://aka.ms/debugimage#dockerlog for more information.\n\t2. If your container application crashed. This may be caused by errors in your scoring file's init() function. You can try debugging locally first. Please refer to https://aka.ms/debugimage#debug-locally for more information.\n\t3. You can also interactively debug your scoring file locally. Please refer to https://docs.microsoft.com/azure/machine-learning/how-to-debug-visual-studio-code#debug-and-troubleshoot-deployments for more information.\n\t4. View the diagnostic events to check status of container, it may help you to debug the issue.\n\"RestartCount\": 3\n\"CurrentState\": {\"state\":\"Waiting\",\"startTime\":null,\"exitCode\":null,\"finishTime\":null,\"detailStatus\":\"CrashLoopBackOff: Back-off restarting failed\"}\n\"PreviousState\": {\"state\":\"Terminated\",\"startTime\":\"2024-10-17T13:41:48.532Z\",\"exitCode\":111,\"finishTime\":\"2024-10-17T13:41:56.026Z\",\"detailStatus\":\"Error\"}\n\"Events\":\n{\"count\":1,\"firstTimestamp\":\"2024-10-17T13:39:20Z\",\"lastTimestamp\":\"2024-10-17T13:39:20Z\",\"name\":\"Pulling\",\"message\":\"pulling image \"231dc1a3d4864dd8bb5a3ebd8b99ae0e.azurecr.io/azureml/azureml_788d81cd6b656803aa87f41300150b20@sha256:bfd33542c1eddd9c52922c825cdcd127f8bc3fd7bf37381c4429f418d6288e70\"\",\"type\":\"Normal\"}\n{\"count\":1,\"firstTimestamp\":\"2024-10-17T13:39:55Z\",\"lastTimestamp\":\"2024-10-17T13:39:55Z\",\"name\":\"Pulled\",\"message\":\"Successfully pulled image \"231dc1a3d4864dd8bb5a3ebd8b99ae0e.azurecr.io/azureml/azureml_788d81cd6b656803aa87f41300150b20@sha256:bfd33542c1eddd9c52922c825cdcd127f8bc3fd7bf37381c4429f418d6288e70\"\",\"type\":\"Normal\"}\n{\"count\":4,\"firstTimestamp\":\"2024-10-17T13:40:17Z\",\"lastTimestamp\":\"2024-10-17T13:41:48Z\",\"name\":\"Started\",\"message\":\"Started container\",\"type\":\"Normal\"}\n{\"count\":3,\"firstTimestamp\":\"2024-10-17T13:40:25Z\",\"lastTimestamp\":\"2024-10-17T13:41:16Z\",\"name\":\"Killing\",\"message\":\"Container diamond-price-prediction-service terminated with ExitCode 111.\",\"type\":\"Normal\"}\n\"\n    }\n  ]\n}\n\tInnerException None\n\tErrorResponse \n{\n    \"error\": {\n        \"message\": \"Service deployment polling reached non-successful terminal state, current service state: Failed\\nOperation ID: 80899236-346d-4f6d-862e-a48e28ffef46\\nMore information can be found using '.get_logs()'\\nError:\\n{\\n  \\\"code\\\": \\\"AciDeploymentFailed\\\",\\n  \\\"statusCode\\\": 400,\\n  \\\"message\\\": \\\"Aci Deployment failed with exception: Your container application crashed. This may be caused by errors in your scoring file's init() function.\\n\\t1. Please check the logs for your container instance: diamond-price-prediction-service. From the AML SDK, you can run print(service.get_logs()) if you have service object to fetch the logs.\\n\\t2. You can interactively debug your scoring file locally. Please refer to https://docs.microsoft.com/azure/machine-learning/how-to-debug-visual-studio-code#debug-and-troubleshoot-deployments for more information.\\n\\t3. You can also try to run image 231dc1a3d4864dd8bb5a3ebd8b99ae0e.azurecr.io/azureml/azureml_788d81cd6b656803aa87f41300150b20 locally. Please refer to https://aka.ms/debugimage#service-launch-fails for more information.\\\",\\n  \\\"details\\\": [\\n    {\\n      \\\"code\\\": \\\"CrashLoopBackOff\\\",\\n      \\\"message\\\": \\\"Your container application crashed. This may be caused by errors in your scoring file's init() function.\\n\\t1. Please check the logs for your container instance: diamond-price-prediction-service. From the AML SDK, you can run print(service.get_logs()) if you have service object to fetch the logs.\\n\\t2. You can interactively debug your scoring file locally. Please refer to https://docs.microsoft.com/azure/machine-learning/how-to-debug-visual-studio-code#debug-and-troubleshoot-deployments for more information.\\n\\t3. You can also try to run image 231dc1a3d4864dd8bb5a3ebd8b99ae0e.azurecr.io/azureml/azureml_788d81cd6b656803aa87f41300150b20 locally. Please refer to https://aka.ms/debugimage#service-launch-fails for more information.\\\"\\n    },\\n    {\\n      \\\"code\\\": \\\"AciDeploymentFailed\\\",\\n      \\\"message\\\": \\\"Your container application crashed. Please follow the steps to debug:\\n\\t1. From the AML SDK, you can run print(service.get_logs()) if you have service object to fetch the logs. Please refer to https://aka.ms/debugimage#dockerlog for more information.\\n\\t2. If your container application crashed. This may be caused by errors in your scoring file's init() function. You can try debugging locally first. Please refer to https://aka.ms/debugimage#debug-locally for more information.\\n\\t3. You can also interactively debug your scoring file locally. Please refer to https://docs.microsoft.com/azure/machine-learning/how-to-debug-visual-studio-code#debug-and-troubleshoot-deployments for more information.\\n\\t4. View the diagnostic events to check status of container, it may help you to debug the issue.\\n\\\"RestartCount\\\": 3\\n\\\"CurrentState\\\": {\\\"state\\\":\\\"Waiting\\\",\\\"startTime\\\":null,\\\"exitCode\\\":null,\\\"finishTime\\\":null,\\\"detailStatus\\\":\\\"CrashLoopBackOff: Back-off restarting failed\\\"}\\n\\\"PreviousState\\\": {\\\"state\\\":\\\"Terminated\\\",\\\"startTime\\\":\\\"2024-10-17T13:41:48.532Z\\\",\\\"exitCode\\\":111,\\\"finishTime\\\":\\\"2024-10-17T13:41:56.026Z\\\",\\\"detailStatus\\\":\\\"Error\\\"}\\n\\\"Events\\\":\\n{\\\"count\\\":1,\\\"firstTimestamp\\\":\\\"2024-10-17T13:39:20Z\\\",\\\"lastTimestamp\\\":\\\"2024-10-17T13:39:20Z\\\",\\\"name\\\":\\\"Pulling\\\",\\\"message\\\":\\\"pulling image \\\"231dc1a3d4864dd8bb5a3ebd8b99ae0e.azurecr.io/azureml/azureml_788d81cd6b656803aa87f41300150b20@sha256:bfd33542c1eddd9c52922c825cdcd127f8bc3fd7bf37381c4429f418d6288e70\\\"\\\",\\\"type\\\":\\\"Normal\\\"}\\n{\\\"count\\\":1,\\\"firstTimestamp\\\":\\\"2024-10-17T13:39:55Z\\\",\\\"lastTimestamp\\\":\\\"2024-10-17T13:39:55Z\\\",\\\"name\\\":\\\"Pulled\\\",\\\"message\\\":\\\"Successfully pulled image \\\"231dc1a3d4864dd8bb5a3ebd8b99ae0e.azurecr.io/azureml/azureml_788d81cd6b656803aa87f41300150b20@sha256:bfd33542c1eddd9c52922c825cdcd127f8bc3fd7bf37381c4429f418d6288e70\\\"\\\",\\\"type\\\":\\\"Normal\\\"}\\n{\\\"count\\\":4,\\\"firstTimestamp\\\":\\\"2024-10-17T13:40:17Z\\\",\\\"lastTimestamp\\\":\\\"2024-10-17T13:41:48Z\\\",\\\"name\\\":\\\"Started\\\",\\\"message\\\":\\\"Started container\\\",\\\"type\\\":\\\"Normal\\\"}\\n{\\\"count\\\":3,\\\"firstTimestamp\\\":\\\"2024-10-17T13:40:25Z\\\",\\\"lastTimestamp\\\":\\\"2024-10-17T13:41:16Z\\\",\\\"name\\\":\\\"Killing\\\",\\\"message\\\":\\\"Container diamond-price-prediction-service terminated with ExitCode 111.\\\",\\\"type\\\":\\\"Normal\\\"}\\n\\\"\\n    }\\n  ]\\n}\"\n    }\n}",
     "output_type": "error",
     "traceback": [
      "\u001b[1;31m---------------------------------------------------------------------------\u001b[0m",
      "\u001b[1;31mWebserviceException\u001b[0m                       Traceback (most recent call last)",
      "Cell \u001b[1;32mIn[12], line 6\u001b[0m\n\u001b[0;32m      1\u001b[0m service \u001b[38;5;241m=\u001b[39mModel\u001b[38;5;241m.\u001b[39mdeploy(workspace\u001b[38;5;241m=\u001b[39mws,\n\u001b[0;32m      2\u001b[0m         name\u001b[38;5;241m=\u001b[39m\u001b[38;5;124m'\u001b[39m\u001b[38;5;124mdiamond-price-prediction-service\u001b[39m\u001b[38;5;124m'\u001b[39m,\n\u001b[0;32m      3\u001b[0m         models\u001b[38;5;241m=\u001b[39m[registered_model],\n\u001b[0;32m      4\u001b[0m         inference_config\u001b[38;5;241m=\u001b[39minference_config,\n\u001b[0;32m      5\u001b[0m         deployment_config\u001b[38;5;241m=\u001b[39maci_config)\n\u001b[1;32m----> 6\u001b[0m \u001b[43mservice\u001b[49m\u001b[38;5;241;43m.\u001b[39;49m\u001b[43mwait_for_deployment\u001b[49m\u001b[43m(\u001b[49m\u001b[43mshow_output\u001b[49m\u001b[38;5;241;43m=\u001b[39;49m\u001b[38;5;28;43;01mTrue\u001b[39;49;00m\u001b[43m)\u001b[49m\n",
      "File \u001b[1;32mc:\\Users\\ashwi\\anaconda3\\envs\\myenv\\lib\\site-packages\\azureml\\core\\webservice\\webservice.py:910\u001b[0m, in \u001b[0;36mWebservice.wait_for_deployment\u001b[1;34m(self, show_output, timeout_sec)\u001b[0m\n\u001b[0;32m    907\u001b[0m         \u001b[38;5;28;01mif\u001b[39;00m \u001b[38;5;129;01mnot\u001b[39;00m logs_response:\n\u001b[0;32m    908\u001b[0m             logs_response \u001b[38;5;241m=\u001b[39m \u001b[38;5;124m'\u001b[39m\u001b[38;5;124mCurrent sub-operation type not known, more logs unavailable.\u001b[39m\u001b[38;5;124m'\u001b[39m\n\u001b[1;32m--> 910\u001b[0m         \u001b[38;5;28;01mraise\u001b[39;00m WebserviceException(\u001b[38;5;124m'\u001b[39m\u001b[38;5;124mService deployment polling reached non-successful terminal state, current \u001b[39m\u001b[38;5;124m'\u001b[39m\n\u001b[0;32m    911\u001b[0m                                   \u001b[38;5;124m'\u001b[39m\u001b[38;5;124mservice state: \u001b[39m\u001b[38;5;132;01m{}\u001b[39;00m\u001b[38;5;130;01m\\n\u001b[39;00m\u001b[38;5;124m'\u001b[39m\n\u001b[0;32m    912\u001b[0m                                   \u001b[38;5;124m'\u001b[39m\u001b[38;5;124mOperation ID: \u001b[39m\u001b[38;5;132;01m{}\u001b[39;00m\u001b[38;5;130;01m\\n\u001b[39;00m\u001b[38;5;124m'\u001b[39m\n\u001b[0;32m    913\u001b[0m                                   \u001b[38;5;124m'\u001b[39m\u001b[38;5;132;01m{}\u001b[39;00m\u001b[38;5;130;01m\\n\u001b[39;00m\u001b[38;5;124m'\u001b[39m\n\u001b[0;32m    914\u001b[0m                                   \u001b[38;5;124m'\u001b[39m\u001b[38;5;124mError:\u001b[39m\u001b[38;5;130;01m\\n\u001b[39;00m\u001b[38;5;124m'\u001b[39m\n\u001b[0;32m    915\u001b[0m                                   \u001b[38;5;124m'\u001b[39m\u001b[38;5;132;01m{}\u001b[39;00m\u001b[38;5;124m'\u001b[39m\u001b[38;5;241m.\u001b[39mformat(\u001b[38;5;28mself\u001b[39m\u001b[38;5;241m.\u001b[39mstate, \u001b[38;5;28mself\u001b[39m\u001b[38;5;241m.\u001b[39m_operation_endpoint\u001b[38;5;241m.\u001b[39msplit(\u001b[38;5;124m'\u001b[39m\u001b[38;5;124m/\u001b[39m\u001b[38;5;124m'\u001b[39m)[\u001b[38;5;241m-\u001b[39m\u001b[38;5;241m1\u001b[39m],\n\u001b[0;32m    916\u001b[0m                                               logs_response, format_error_response), logger\u001b[38;5;241m=\u001b[39mmodule_logger)\n\u001b[0;32m    917\u001b[0m     \u001b[38;5;28mprint\u001b[39m(\u001b[38;5;124m'\u001b[39m\u001b[38;5;132;01m{}\u001b[39;00m\u001b[38;5;124m service creation operation finished, operation \u001b[39m\u001b[38;5;124m\"\u001b[39m\u001b[38;5;132;01m{}\u001b[39;00m\u001b[38;5;124m\"\u001b[39m\u001b[38;5;124m'\u001b[39m\u001b[38;5;241m.\u001b[39mformat(\u001b[38;5;28mself\u001b[39m\u001b[38;5;241m.\u001b[39m_webservice_type,\n\u001b[0;32m    918\u001b[0m                                                                           operation_state))\n\u001b[0;32m    919\u001b[0m \u001b[38;5;28;01mexcept\u001b[39;00m WebserviceException \u001b[38;5;28;01mas\u001b[39;00m e:\n",
      "\u001b[1;31mWebserviceException\u001b[0m: WebserviceException:\n\tMessage: Service deployment polling reached non-successful terminal state, current service state: Failed\nOperation ID: 80899236-346d-4f6d-862e-a48e28ffef46\nMore information can be found using '.get_logs()'\nError:\n{\n  \"code\": \"AciDeploymentFailed\",\n  \"statusCode\": 400,\n  \"message\": \"Aci Deployment failed with exception: Your container application crashed. This may be caused by errors in your scoring file's init() function.\n\t1. Please check the logs for your container instance: diamond-price-prediction-service. From the AML SDK, you can run print(service.get_logs()) if you have service object to fetch the logs.\n\t2. You can interactively debug your scoring file locally. Please refer to https://docs.microsoft.com/azure/machine-learning/how-to-debug-visual-studio-code#debug-and-troubleshoot-deployments for more information.\n\t3. You can also try to run image 231dc1a3d4864dd8bb5a3ebd8b99ae0e.azurecr.io/azureml/azureml_788d81cd6b656803aa87f41300150b20 locally. Please refer to https://aka.ms/debugimage#service-launch-fails for more information.\",\n  \"details\": [\n    {\n      \"code\": \"CrashLoopBackOff\",\n      \"message\": \"Your container application crashed. This may be caused by errors in your scoring file's init() function.\n\t1. Please check the logs for your container instance: diamond-price-prediction-service. From the AML SDK, you can run print(service.get_logs()) if you have service object to fetch the logs.\n\t2. You can interactively debug your scoring file locally. Please refer to https://docs.microsoft.com/azure/machine-learning/how-to-debug-visual-studio-code#debug-and-troubleshoot-deployments for more information.\n\t3. You can also try to run image 231dc1a3d4864dd8bb5a3ebd8b99ae0e.azurecr.io/azureml/azureml_788d81cd6b656803aa87f41300150b20 locally. Please refer to https://aka.ms/debugimage#service-launch-fails for more information.\"\n    },\n    {\n      \"code\": \"AciDeploymentFailed\",\n      \"message\": \"Your container application crashed. Please follow the steps to debug:\n\t1. From the AML SDK, you can run print(service.get_logs()) if you have service object to fetch the logs. Please refer to https://aka.ms/debugimage#dockerlog for more information.\n\t2. If your container application crashed. This may be caused by errors in your scoring file's init() function. You can try debugging locally first. Please refer to https://aka.ms/debugimage#debug-locally for more information.\n\t3. You can also interactively debug your scoring file locally. Please refer to https://docs.microsoft.com/azure/machine-learning/how-to-debug-visual-studio-code#debug-and-troubleshoot-deployments for more information.\n\t4. View the diagnostic events to check status of container, it may help you to debug the issue.\n\"RestartCount\": 3\n\"CurrentState\": {\"state\":\"Waiting\",\"startTime\":null,\"exitCode\":null,\"finishTime\":null,\"detailStatus\":\"CrashLoopBackOff: Back-off restarting failed\"}\n\"PreviousState\": {\"state\":\"Terminated\",\"startTime\":\"2024-10-17T13:41:48.532Z\",\"exitCode\":111,\"finishTime\":\"2024-10-17T13:41:56.026Z\",\"detailStatus\":\"Error\"}\n\"Events\":\n{\"count\":1,\"firstTimestamp\":\"2024-10-17T13:39:20Z\",\"lastTimestamp\":\"2024-10-17T13:39:20Z\",\"name\":\"Pulling\",\"message\":\"pulling image \"231dc1a3d4864dd8bb5a3ebd8b99ae0e.azurecr.io/azureml/azureml_788d81cd6b656803aa87f41300150b20@sha256:bfd33542c1eddd9c52922c825cdcd127f8bc3fd7bf37381c4429f418d6288e70\"\",\"type\":\"Normal\"}\n{\"count\":1,\"firstTimestamp\":\"2024-10-17T13:39:55Z\",\"lastTimestamp\":\"2024-10-17T13:39:55Z\",\"name\":\"Pulled\",\"message\":\"Successfully pulled image \"231dc1a3d4864dd8bb5a3ebd8b99ae0e.azurecr.io/azureml/azureml_788d81cd6b656803aa87f41300150b20@sha256:bfd33542c1eddd9c52922c825cdcd127f8bc3fd7bf37381c4429f418d6288e70\"\",\"type\":\"Normal\"}\n{\"count\":4,\"firstTimestamp\":\"2024-10-17T13:40:17Z\",\"lastTimestamp\":\"2024-10-17T13:41:48Z\",\"name\":\"Started\",\"message\":\"Started container\",\"type\":\"Normal\"}\n{\"count\":3,\"firstTimestamp\":\"2024-10-17T13:40:25Z\",\"lastTimestamp\":\"2024-10-17T13:41:16Z\",\"name\":\"Killing\",\"message\":\"Container diamond-price-prediction-service terminated with ExitCode 111.\",\"type\":\"Normal\"}\n\"\n    }\n  ]\n}\n\tInnerException None\n\tErrorResponse \n{\n    \"error\": {\n        \"message\": \"Service deployment polling reached non-successful terminal state, current service state: Failed\\nOperation ID: 80899236-346d-4f6d-862e-a48e28ffef46\\nMore information can be found using '.get_logs()'\\nError:\\n{\\n  \\\"code\\\": \\\"AciDeploymentFailed\\\",\\n  \\\"statusCode\\\": 400,\\n  \\\"message\\\": \\\"Aci Deployment failed with exception: Your container application crashed. This may be caused by errors in your scoring file's init() function.\\n\\t1. Please check the logs for your container instance: diamond-price-prediction-service. From the AML SDK, you can run print(service.get_logs()) if you have service object to fetch the logs.\\n\\t2. You can interactively debug your scoring file locally. Please refer to https://docs.microsoft.com/azure/machine-learning/how-to-debug-visual-studio-code#debug-and-troubleshoot-deployments for more information.\\n\\t3. You can also try to run image 231dc1a3d4864dd8bb5a3ebd8b99ae0e.azurecr.io/azureml/azureml_788d81cd6b656803aa87f41300150b20 locally. Please refer to https://aka.ms/debugimage#service-launch-fails for more information.\\\",\\n  \\\"details\\\": [\\n    {\\n      \\\"code\\\": \\\"CrashLoopBackOff\\\",\\n      \\\"message\\\": \\\"Your container application crashed. This may be caused by errors in your scoring file's init() function.\\n\\t1. Please check the logs for your container instance: diamond-price-prediction-service. From the AML SDK, you can run print(service.get_logs()) if you have service object to fetch the logs.\\n\\t2. You can interactively debug your scoring file locally. Please refer to https://docs.microsoft.com/azure/machine-learning/how-to-debug-visual-studio-code#debug-and-troubleshoot-deployments for more information.\\n\\t3. You can also try to run image 231dc1a3d4864dd8bb5a3ebd8b99ae0e.azurecr.io/azureml/azureml_788d81cd6b656803aa87f41300150b20 locally. Please refer to https://aka.ms/debugimage#service-launch-fails for more information.\\\"\\n    },\\n    {\\n      \\\"code\\\": \\\"AciDeploymentFailed\\\",\\n      \\\"message\\\": \\\"Your container application crashed. Please follow the steps to debug:\\n\\t1. From the AML SDK, you can run print(service.get_logs()) if you have service object to fetch the logs. Please refer to https://aka.ms/debugimage#dockerlog for more information.\\n\\t2. If your container application crashed. This may be caused by errors in your scoring file's init() function. You can try debugging locally first. Please refer to https://aka.ms/debugimage#debug-locally for more information.\\n\\t3. You can also interactively debug your scoring file locally. Please refer to https://docs.microsoft.com/azure/machine-learning/how-to-debug-visual-studio-code#debug-and-troubleshoot-deployments for more information.\\n\\t4. View the diagnostic events to check status of container, it may help you to debug the issue.\\n\\\"RestartCount\\\": 3\\n\\\"CurrentState\\\": {\\\"state\\\":\\\"Waiting\\\",\\\"startTime\\\":null,\\\"exitCode\\\":null,\\\"finishTime\\\":null,\\\"detailStatus\\\":\\\"CrashLoopBackOff: Back-off restarting failed\\\"}\\n\\\"PreviousState\\\": {\\\"state\\\":\\\"Terminated\\\",\\\"startTime\\\":\\\"2024-10-17T13:41:48.532Z\\\",\\\"exitCode\\\":111,\\\"finishTime\\\":\\\"2024-10-17T13:41:56.026Z\\\",\\\"detailStatus\\\":\\\"Error\\\"}\\n\\\"Events\\\":\\n{\\\"count\\\":1,\\\"firstTimestamp\\\":\\\"2024-10-17T13:39:20Z\\\",\\\"lastTimestamp\\\":\\\"2024-10-17T13:39:20Z\\\",\\\"name\\\":\\\"Pulling\\\",\\\"message\\\":\\\"pulling image \\\"231dc1a3d4864dd8bb5a3ebd8b99ae0e.azurecr.io/azureml/azureml_788d81cd6b656803aa87f41300150b20@sha256:bfd33542c1eddd9c52922c825cdcd127f8bc3fd7bf37381c4429f418d6288e70\\\"\\\",\\\"type\\\":\\\"Normal\\\"}\\n{\\\"count\\\":1,\\\"firstTimestamp\\\":\\\"2024-10-17T13:39:55Z\\\",\\\"lastTimestamp\\\":\\\"2024-10-17T13:39:55Z\\\",\\\"name\\\":\\\"Pulled\\\",\\\"message\\\":\\\"Successfully pulled image \\\"231dc1a3d4864dd8bb5a3ebd8b99ae0e.azurecr.io/azureml/azureml_788d81cd6b656803aa87f41300150b20@sha256:bfd33542c1eddd9c52922c825cdcd127f8bc3fd7bf37381c4429f418d6288e70\\\"\\\",\\\"type\\\":\\\"Normal\\\"}\\n{\\\"count\\\":4,\\\"firstTimestamp\\\":\\\"2024-10-17T13:40:17Z\\\",\\\"lastTimestamp\\\":\\\"2024-10-17T13:41:48Z\\\",\\\"name\\\":\\\"Started\\\",\\\"message\\\":\\\"Started container\\\",\\\"type\\\":\\\"Normal\\\"}\\n{\\\"count\\\":3,\\\"firstTimestamp\\\":\\\"2024-10-17T13:40:25Z\\\",\\\"lastTimestamp\\\":\\\"2024-10-17T13:41:16Z\\\",\\\"name\\\":\\\"Killing\\\",\\\"message\\\":\\\"Container diamond-price-prediction-service terminated with ExitCode 111.\\\",\\\"type\\\":\\\"Normal\\\"}\\n\\\"\\n    }\\n  ]\\n}\"\n    }\n}"
     ]
    }
   ],
   "source": [
    "service =Model.deploy(workspace=ws,\n",
    "        name='diamond-price-prediction-service',\n",
    "        models=[registered_model],\n",
    "        inference_config=inference_config,\n",
    "        deployment_config=aci_config)\n",
    "service.wait_for_deployment(show_output=True)"
   ]
  },
  {
   "cell_type": "code",
   "execution_count": null,
   "metadata": {},
   "outputs": [],
   "source": [
    "scoring_uri = service.scoring_uri"
   ]
  },
  {
   "cell_type": "code",
   "execution_count": null,
   "metadata": {},
   "outputs": [],
   "source": [
    "scoring_uri"
   ]
  },
  {
   "cell_type": "code",
   "execution_count": 45,
   "metadata": {},
   "outputs": [
    {
     "name": "stderr",
     "output_type": "stream",
     "text": [
      "UserWarning: The resource group doesn't exist or was not provided. AzureML SDK is creating a resource group=ml-model-deploymentt in location=centralindia using subscription=f6b351b1-a0ba-46e9-bad7-62dd209054fb.\n"
     ]
    },
    {
     "name": "stdout",
     "output_type": "stream",
     "text": [
      "Deploying StorageAccount with name demostoraged119f1c9dbfb4.\n",
      "Deploying KeyVault with name demokeyvaultce6baada96c4.\n",
      "Deploying AppInsights with name demoinsights5f85e0bfa59f.\n",
      "Deployed AppInsights with name demoinsights5f85e0bfa59f. Took 2.96 seconds.\n",
      "Deployed KeyVault with name demokeyvaultce6baada96c4. Took 21.63 seconds.\n",
      "Deploying Workspace with name demo.\n",
      "Deployed StorageAccount with name demostoraged119f1c9dbfb4. Took 28.43 seconds.\n",
      "Deployment of Workspace with name demo failed.\n",
      "Unable to create the workspace. \n",
      " Azure Error: DeploymentFailed\n",
      "Message: At least one resource deployment operation failed. Please list deployment operations for details. Please see https://aka.ms/arm-deployment-operations for usage details.\n",
      "Exception Details:\n",
      "\tError Code: Conflict\n",
      "\tMessage: {'status': 'Failed', 'error': {'code': 'ResourceDeploymentFailure', 'message': \"The resource write operation failed to complete successfully, because it reached terminal provisioning state 'Failed'.\", 'details': [{'code': 'BadRequest', 'message': 'Soft-deleted workspace exists. Please purge or recover it. https://aka.ms/wsoftdelete'}]}}\n"
     ]
    },
    {
     "ename": "WorkspaceException",
     "evalue": "WorkspaceException:\n\tMessage: Unable to create the workspace. At least one resource deployment operation failed. Please list deployment operations for details. Please see https://aka.ms/arm-deployment-operations for usage details.\n\tInnerException Azure Error: DeploymentFailed\nMessage: At least one resource deployment operation failed. Please list deployment operations for details. Please see https://aka.ms/arm-deployment-operations for usage details.\nException Details:\n\tError Code: Conflict\n\tMessage: {'status': 'Failed', 'error': {'code': 'ResourceDeploymentFailure', 'message': \"The resource write operation failed to complete successfully, because it reached terminal provisioning state 'Failed'.\", 'details': [{'code': 'BadRequest', 'message': 'Soft-deleted workspace exists. Please purge or recover it. https://aka.ms/wsoftdelete'}]}}\n\tErrorResponse \n{\n    \"error\": {\n        \"message\": \"Unable to create the workspace. At least one resource deployment operation failed. Please list deployment operations for details. Please see https://aka.ms/arm-deployment-operations for usage details.\"\n    }\n}",
     "output_type": "error",
     "traceback": [
      "\u001b[1;31m---------------------------------------------------------------------------\u001b[0m",
      "\u001b[1;31mWorkspaceException\u001b[0m                        Traceback (most recent call last)",
      "Cell \u001b[1;32mIn[45], line 10\u001b[0m\n\u001b[0;32m      7\u001b[0m \u001b[38;5;28;01mfrom\u001b[39;00m \u001b[38;5;21;01mazureml\u001b[39;00m\u001b[38;5;21;01m.\u001b[39;00m\u001b[38;5;21;01mcore\u001b[39;00m\u001b[38;5;21;01m.\u001b[39;00m\u001b[38;5;21;01mmodel\u001b[39;00m \u001b[38;5;28;01mimport\u001b[39;00m InferenceConfig\n\u001b[0;32m      9\u001b[0m \u001b[38;5;66;03m# Initialize Workspace\u001b[39;00m\n\u001b[1;32m---> 10\u001b[0m ws \u001b[38;5;241m=\u001b[39m \u001b[43mWorkspace\u001b[49m\u001b[38;5;241;43m.\u001b[39;49m\u001b[43mcreate\u001b[49m\u001b[43m(\u001b[49m\n\u001b[0;32m     11\u001b[0m \u001b[43m    \u001b[49m\u001b[43mname\u001b[49m\u001b[38;5;241;43m=\u001b[39;49m\u001b[43mWorkspace_name\u001b[49m\u001b[43m,\u001b[49m\n\u001b[0;32m     12\u001b[0m \u001b[43m    \u001b[49m\u001b[43msubscription_id\u001b[49m\u001b[38;5;241;43m=\u001b[39;49m\u001b[43msubscription_id\u001b[49m\u001b[43m,\u001b[49m\n\u001b[0;32m     13\u001b[0m \u001b[43m    \u001b[49m\u001b[43mresource_group\u001b[49m\u001b[38;5;241;43m=\u001b[39;49m\u001b[43mresource_group\u001b[49m\u001b[43m,\u001b[49m\n\u001b[0;32m     14\u001b[0m \u001b[43m    \u001b[49m\u001b[43mlocation\u001b[49m\u001b[38;5;241;43m=\u001b[39;49m\u001b[43mregion\u001b[49m\u001b[43m)\u001b[49m\n\u001b[0;32m     15\u001b[0m \u001b[38;5;28mprint\u001b[39m(\u001b[38;5;124mf\u001b[39m\u001b[38;5;124m\"\u001b[39m\u001b[38;5;124mWorkspace\u001b[39m\u001b[38;5;132;01m{\u001b[39;00mWorkspace_name\u001b[38;5;132;01m}\u001b[39;00m\u001b[38;5;124m created\u001b[39m\u001b[38;5;124m\"\u001b[39m) \u001b[38;5;66;03m# Assumes a config.json file in the same directory\u001b[39;00m\n\u001b[0;32m     17\u001b[0m \u001b[38;5;66;03m# Register Model (if not already registered)\u001b[39;00m\n",
      "File \u001b[1;32mc:\\Users\\ashwi\\anaconda3\\envs\\myenv\\lib\\site-packages\\azureml\\core\\workspace.py:546\u001b[0m, in \u001b[0;36mWorkspace.create\u001b[1;34m(name, auth, subscription_id, resource_group, location, create_resource_group, sku, tags, friendly_name, storage_account, key_vault, app_insights, container_registry, adb_workspace, primary_user_assigned_identity, cmk_keyvault, resource_cmk_uri, hbi_workspace, default_cpu_compute_target, default_gpu_compute_target, private_endpoint_config, private_endpoint_auto_approval, exist_ok, show_output, user_assigned_identity_for_cmk_encryption, system_datastores_auth_mode, v1_legacy_mode)\u001b[0m\n\u001b[0;32m    541\u001b[0m     private_endpoint_config\u001b[38;5;241m.\u001b[39mvnet_subscription_id \u001b[38;5;241m=\u001b[39m private_endpoint_config\u001b[38;5;241m.\u001b[39mvnet_subscription_id \\\n\u001b[0;32m    542\u001b[0m         \u001b[38;5;28;01mif\u001b[39;00m private_endpoint_config\u001b[38;5;241m.\u001b[39mvnet_subscription_id \u001b[38;5;28;01melse\u001b[39;00m subscription_id\n\u001b[0;32m    543\u001b[0m     private_endpoint_config\u001b[38;5;241m.\u001b[39mvnet_resource_group \u001b[38;5;241m=\u001b[39m private_endpoint_config\u001b[38;5;241m.\u001b[39mvnet_resource_group \\\n\u001b[0;32m    544\u001b[0m         \u001b[38;5;28;01mif\u001b[39;00m private_endpoint_config\u001b[38;5;241m.\u001b[39mvnet_resource_group \u001b[38;5;28;01melse\u001b[39;00m resource_group\n\u001b[1;32m--> 546\u001b[0m \u001b[38;5;28;01mreturn\u001b[39;00m \u001b[43mWorkspace\u001b[49m\u001b[38;5;241;43m.\u001b[39;49m\u001b[43m_create_legacy\u001b[49m\u001b[43m(\u001b[49m\n\u001b[0;32m    547\u001b[0m \u001b[43m    \u001b[49m\u001b[43mauth\u001b[49m\u001b[43m,\u001b[49m\n\u001b[0;32m    548\u001b[0m \u001b[43m    \u001b[49m\u001b[43msubscription_id\u001b[49m\u001b[43m,\u001b[49m\n\u001b[0;32m    549\u001b[0m \u001b[43m    \u001b[49m\u001b[43mresource_group\u001b[49m\u001b[43m,\u001b[49m\n\u001b[0;32m    550\u001b[0m \u001b[43m    \u001b[49m\u001b[43mname\u001b[49m\u001b[43m,\u001b[49m\n\u001b[0;32m    551\u001b[0m \u001b[43m    \u001b[49m\u001b[43mlocation\u001b[49m\u001b[38;5;241;43m=\u001b[39;49m\u001b[43mlocation\u001b[49m\u001b[43m,\u001b[49m\n\u001b[0;32m    552\u001b[0m \u001b[43m    \u001b[49m\u001b[43mcreate_resource_group\u001b[49m\u001b[38;5;241;43m=\u001b[39;49m\u001b[43mcreate_resource_group\u001b[49m\u001b[43m,\u001b[49m\n\u001b[0;32m    553\u001b[0m \u001b[43m    \u001b[49m\u001b[43msku\u001b[49m\u001b[38;5;241;43m=\u001b[39;49m\u001b[38;5;124;43m\"\u001b[39;49m\u001b[38;5;124;43mbasic\u001b[39;49m\u001b[38;5;124;43m\"\u001b[39;49m\u001b[43m,\u001b[49m\n\u001b[0;32m    554\u001b[0m \u001b[43m    \u001b[49m\u001b[43mtags\u001b[49m\u001b[38;5;241;43m=\u001b[39;49m\u001b[43mtags\u001b[49m\u001b[43m,\u001b[49m\n\u001b[0;32m    555\u001b[0m \u001b[43m    \u001b[49m\u001b[43mfriendly_name\u001b[49m\u001b[38;5;241;43m=\u001b[39;49m\u001b[43mfriendly_name\u001b[49m\u001b[43m,\u001b[49m\n\u001b[0;32m    556\u001b[0m \u001b[43m    \u001b[49m\u001b[43mstorage_account\u001b[49m\u001b[38;5;241;43m=\u001b[39;49m\u001b[43mstorage_account\u001b[49m\u001b[43m,\u001b[49m\n\u001b[0;32m    557\u001b[0m \u001b[43m    \u001b[49m\u001b[43mkey_vault\u001b[49m\u001b[38;5;241;43m=\u001b[39;49m\u001b[43mkey_vault\u001b[49m\u001b[43m,\u001b[49m\n\u001b[0;32m    558\u001b[0m \u001b[43m    \u001b[49m\u001b[43mapp_insights\u001b[49m\u001b[38;5;241;43m=\u001b[39;49m\u001b[43mapp_insights\u001b[49m\u001b[43m,\u001b[49m\n\u001b[0;32m    559\u001b[0m \u001b[43m    \u001b[49m\u001b[43mcontainer_registry\u001b[49m\u001b[38;5;241;43m=\u001b[39;49m\u001b[43mcontainer_registry\u001b[49m\u001b[43m,\u001b[49m\n\u001b[0;32m    560\u001b[0m \u001b[43m    \u001b[49m\u001b[43madb_workspace\u001b[49m\u001b[38;5;241;43m=\u001b[39;49m\u001b[43madb_workspace\u001b[49m\u001b[43m,\u001b[49m\n\u001b[0;32m    561\u001b[0m \u001b[43m    \u001b[49m\u001b[43mprimary_user_assigned_identity\u001b[49m\u001b[38;5;241;43m=\u001b[39;49m\u001b[43mprimary_user_assigned_identity\u001b[49m\u001b[43m,\u001b[49m\n\u001b[0;32m    562\u001b[0m \u001b[43m    \u001b[49m\u001b[43mcmk_keyvault\u001b[49m\u001b[38;5;241;43m=\u001b[39;49m\u001b[43mcmk_keyvault\u001b[49m\u001b[43m,\u001b[49m\n\u001b[0;32m    563\u001b[0m \u001b[43m    \u001b[49m\u001b[43mresource_cmk_uri\u001b[49m\u001b[38;5;241;43m=\u001b[39;49m\u001b[43mresource_cmk_uri\u001b[49m\u001b[43m,\u001b[49m\n\u001b[0;32m    564\u001b[0m \u001b[43m    \u001b[49m\u001b[43mhbi_workspace\u001b[49m\u001b[38;5;241;43m=\u001b[39;49m\u001b[43mhbi_workspace\u001b[49m\u001b[43m,\u001b[49m\n\u001b[0;32m    565\u001b[0m \u001b[43m    \u001b[49m\u001b[43mdefault_cpu_compute_target\u001b[49m\u001b[38;5;241;43m=\u001b[39;49m\u001b[43mdefault_cpu_compute_target\u001b[49m\u001b[43m,\u001b[49m\n\u001b[0;32m    566\u001b[0m \u001b[43m    \u001b[49m\u001b[43mdefault_gpu_compute_target\u001b[49m\u001b[38;5;241;43m=\u001b[39;49m\u001b[43mdefault_gpu_compute_target\u001b[49m\u001b[43m,\u001b[49m\n\u001b[0;32m    567\u001b[0m \u001b[43m    \u001b[49m\u001b[43mprivate_endpoint_config\u001b[49m\u001b[38;5;241;43m=\u001b[39;49m\u001b[43mprivate_endpoint_config\u001b[49m\u001b[43m,\u001b[49m\n\u001b[0;32m    568\u001b[0m \u001b[43m    \u001b[49m\u001b[43mprivate_endpoint_auto_approval\u001b[49m\u001b[38;5;241;43m=\u001b[39;49m\u001b[43mprivate_endpoint_auto_approval\u001b[49m\u001b[43m,\u001b[49m\n\u001b[0;32m    569\u001b[0m \u001b[43m    \u001b[49m\u001b[43mexist_ok\u001b[49m\u001b[38;5;241;43m=\u001b[39;49m\u001b[43mexist_ok\u001b[49m\u001b[43m,\u001b[49m\n\u001b[0;32m    570\u001b[0m \u001b[43m    \u001b[49m\u001b[43mshow_output\u001b[49m\u001b[38;5;241;43m=\u001b[39;49m\u001b[43mshow_output\u001b[49m\u001b[43m,\u001b[49m\n\u001b[0;32m    571\u001b[0m \u001b[43m    \u001b[49m\u001b[43muser_assigned_identity_for_cmk_encryption\u001b[49m\u001b[38;5;241;43m=\u001b[39;49m\u001b[43muser_assigned_identity_for_cmk_encryption\u001b[49m\u001b[43m,\u001b[49m\n\u001b[0;32m    572\u001b[0m \u001b[43m    \u001b[49m\u001b[43msystem_datastores_auth_mode\u001b[49m\u001b[38;5;241;43m=\u001b[39;49m\u001b[43msystem_datastores_auth_mode\u001b[49m\u001b[43m,\u001b[49m\n\u001b[0;32m    573\u001b[0m \u001b[43m    \u001b[49m\u001b[43mv1_legacy_mode\u001b[49m\u001b[38;5;241;43m=\u001b[39;49m\u001b[43mv1_legacy_mode\u001b[49m\u001b[43m)\u001b[49m\n",
      "File \u001b[1;32mc:\\Users\\ashwi\\anaconda3\\envs\\myenv\\lib\\site-packages\\azureml\\core\\workspace.py:1684\u001b[0m, in \u001b[0;36mWorkspace._create_legacy\u001b[1;34m(auth, subscription_id, resource_group_name, workspace_name, location, create_resource_group, sku, tags, friendly_name, storage_account, key_vault, app_insights, container_registry, adb_workspace, primary_user_assigned_identity, cmk_keyvault, resource_cmk_uri, hbi_workspace, default_cpu_compute_target, default_gpu_compute_target, private_endpoint_config, private_endpoint_auto_approval, exist_ok, show_output, user_assigned_identity_for_cmk_encryption, system_datastores_auth_mode, v1_legacy_mode)\u001b[0m\n\u001b[0;32m   1592\u001b[0m \u001b[38;5;129m@staticmethod\u001b[39m\n\u001b[0;32m   1593\u001b[0m \u001b[38;5;28;01mdef\u001b[39;00m \u001b[38;5;21m_create_legacy\u001b[39m(\n\u001b[0;32m   1594\u001b[0m         auth,\n\u001b[1;32m   (...)\u001b[0m\n\u001b[0;32m   1619\u001b[0m         system_datastores_auth_mode\u001b[38;5;241m=\u001b[39m\u001b[38;5;124m\"\u001b[39m\u001b[38;5;124maccessKey\u001b[39m\u001b[38;5;124m\"\u001b[39m,\n\u001b[0;32m   1620\u001b[0m         v1_legacy_mode\u001b[38;5;241m=\u001b[39m\u001b[38;5;28;01mNone\u001b[39;00m):\n\u001b[0;32m   1621\u001b[0m \u001b[38;5;250m    \u001b[39m\u001b[38;5;124;03m\"\"\"Create a workspace.\u001b[39;00m\n\u001b[0;32m   1622\u001b[0m \n\u001b[0;32m   1623\u001b[0m \u001b[38;5;124;03m    :param auth: Authentication object. For more details refer to https://aka.ms/aml-notebook-auth.\u001b[39;00m\n\u001b[1;32m   (...)\u001b[0m\n\u001b[0;32m   1682\u001b[0m \u001b[38;5;124;03m    :rtype: azureml.core.workspace.Workspace\u001b[39;00m\n\u001b[0;32m   1683\u001b[0m \u001b[38;5;124;03m    \"\"\"\u001b[39;00m\n\u001b[1;32m-> 1684\u001b[0m     workspace_object_autorest \u001b[38;5;241m=\u001b[39m \u001b[43m_commands\u001b[49m\u001b[38;5;241;43m.\u001b[39;49m\u001b[43mcreate_or_update_workspace\u001b[49m\u001b[43m(\u001b[49m\n\u001b[0;32m   1685\u001b[0m \u001b[43m        \u001b[49m\u001b[43mauth\u001b[49m\u001b[43m,\u001b[49m\u001b[43m \u001b[49m\u001b[43mresource_group_name\u001b[49m\u001b[43m,\u001b[49m\u001b[43m \u001b[49m\u001b[43mworkspace_name\u001b[49m\u001b[43m,\u001b[49m\u001b[43m \u001b[49m\u001b[43msubscription_id\u001b[49m\u001b[43m,\u001b[49m\u001b[43m \u001b[49m\u001b[43mlocation\u001b[49m\u001b[38;5;241;43m=\u001b[39;49m\u001b[43mlocation\u001b[49m\u001b[43m,\u001b[49m\n\u001b[0;32m   1686\u001b[0m \u001b[43m        \u001b[49m\u001b[43mcreate_resource_group\u001b[49m\u001b[38;5;241;43m=\u001b[39;49m\u001b[43mcreate_resource_group\u001b[49m\u001b[43m,\u001b[49m\n\u001b[0;32m   1687\u001b[0m \u001b[43m        \u001b[49m\u001b[43msku\u001b[49m\u001b[38;5;241;43m=\u001b[39;49m\u001b[43msku\u001b[49m\u001b[43m,\u001b[49m\n\u001b[0;32m   1688\u001b[0m \u001b[43m        \u001b[49m\u001b[43mtags\u001b[49m\u001b[38;5;241;43m=\u001b[39;49m\u001b[43mtags\u001b[49m\u001b[43m,\u001b[49m\n\u001b[0;32m   1689\u001b[0m \u001b[43m        \u001b[49m\u001b[43mfriendly_name\u001b[49m\u001b[38;5;241;43m=\u001b[39;49m\u001b[43mfriendly_name\u001b[49m\u001b[43m,\u001b[49m\n\u001b[0;32m   1690\u001b[0m \u001b[43m        \u001b[49m\u001b[43mstorage_account\u001b[49m\u001b[38;5;241;43m=\u001b[39;49m\u001b[43mstorage_account\u001b[49m\u001b[43m,\u001b[49m\n\u001b[0;32m   1691\u001b[0m \u001b[43m        \u001b[49m\u001b[43mkey_vault\u001b[49m\u001b[38;5;241;43m=\u001b[39;49m\u001b[43mkey_vault\u001b[49m\u001b[43m,\u001b[49m\n\u001b[0;32m   1692\u001b[0m \u001b[43m        \u001b[49m\u001b[43mapp_insights\u001b[49m\u001b[38;5;241;43m=\u001b[39;49m\u001b[43mapp_insights\u001b[49m\u001b[43m,\u001b[49m\n\u001b[0;32m   1693\u001b[0m \u001b[43m        \u001b[49m\u001b[43mcontainerRegistry\u001b[49m\u001b[38;5;241;43m=\u001b[39;49m\u001b[43mcontainer_registry\u001b[49m\u001b[43m,\u001b[49m\n\u001b[0;32m   1694\u001b[0m \u001b[43m        \u001b[49m\u001b[43madb_workspace\u001b[49m\u001b[38;5;241;43m=\u001b[39;49m\u001b[43madb_workspace\u001b[49m\u001b[43m,\u001b[49m\n\u001b[0;32m   1695\u001b[0m \u001b[43m        \u001b[49m\u001b[43mprimary_user_assigned_identity\u001b[49m\u001b[38;5;241;43m=\u001b[39;49m\u001b[43mprimary_user_assigned_identity\u001b[49m\u001b[43m,\u001b[49m\n\u001b[0;32m   1696\u001b[0m \u001b[43m        \u001b[49m\u001b[43mcmk_keyvault\u001b[49m\u001b[38;5;241;43m=\u001b[39;49m\u001b[43mcmk_keyvault\u001b[49m\u001b[43m,\u001b[49m\n\u001b[0;32m   1697\u001b[0m \u001b[43m        \u001b[49m\u001b[43mresource_cmk_uri\u001b[49m\u001b[38;5;241;43m=\u001b[39;49m\u001b[43mresource_cmk_uri\u001b[49m\u001b[43m,\u001b[49m\n\u001b[0;32m   1698\u001b[0m \u001b[43m        \u001b[49m\u001b[43mhbi_workspace\u001b[49m\u001b[38;5;241;43m=\u001b[39;49m\u001b[43mhbi_workspace\u001b[49m\u001b[43m,\u001b[49m\n\u001b[0;32m   1699\u001b[0m \u001b[43m        \u001b[49m\u001b[43mdefault_cpu_compute_target\u001b[49m\u001b[38;5;241;43m=\u001b[39;49m\u001b[43mdefault_cpu_compute_target\u001b[49m\u001b[43m,\u001b[49m\n\u001b[0;32m   1700\u001b[0m \u001b[43m        \u001b[49m\u001b[43mdefault_gpu_compute_target\u001b[49m\u001b[38;5;241;43m=\u001b[39;49m\u001b[43mdefault_gpu_compute_target\u001b[49m\u001b[43m,\u001b[49m\n\u001b[0;32m   1701\u001b[0m \u001b[43m        \u001b[49m\u001b[43mprivate_endpoint_config\u001b[49m\u001b[38;5;241;43m=\u001b[39;49m\u001b[43mprivate_endpoint_config\u001b[49m\u001b[43m,\u001b[49m\n\u001b[0;32m   1702\u001b[0m \u001b[43m        \u001b[49m\u001b[43mprivate_endpoint_auto_approval\u001b[49m\u001b[38;5;241;43m=\u001b[39;49m\u001b[43mprivate_endpoint_auto_approval\u001b[49m\u001b[43m,\u001b[49m\n\u001b[0;32m   1703\u001b[0m \u001b[43m        \u001b[49m\u001b[43mexist_ok\u001b[49m\u001b[38;5;241;43m=\u001b[39;49m\u001b[43mexist_ok\u001b[49m\u001b[43m,\u001b[49m\u001b[43m \u001b[49m\u001b[43mshow_output\u001b[49m\u001b[38;5;241;43m=\u001b[39;49m\u001b[43mshow_output\u001b[49m\u001b[43m,\u001b[49m\n\u001b[0;32m   1704\u001b[0m \u001b[43m        \u001b[49m\u001b[43muser_assigned_identity_for_cmk_encryption\u001b[49m\u001b[38;5;241;43m=\u001b[39;49m\u001b[43muser_assigned_identity_for_cmk_encryption\u001b[49m\u001b[43m,\u001b[49m\n\u001b[0;32m   1705\u001b[0m \u001b[43m        \u001b[49m\u001b[43msystem_datastores_auth_mode\u001b[49m\u001b[38;5;241;43m=\u001b[39;49m\u001b[43msystem_datastores_auth_mode\u001b[49m\u001b[43m,\u001b[49m\n\u001b[0;32m   1706\u001b[0m \u001b[43m        \u001b[49m\u001b[43mv1_legacy_mode\u001b[49m\u001b[38;5;241;43m=\u001b[39;49m\u001b[43mv1_legacy_mode\u001b[49m\u001b[43m)\u001b[49m\n\u001b[0;32m   1707\u001b[0m     \u001b[38;5;28;01mif\u001b[39;00m \u001b[38;5;129;01mnot\u001b[39;00m workspace_object_autorest:\n\u001b[0;32m   1708\u001b[0m         \u001b[38;5;28;01mraise\u001b[39;00m WorkspaceException(\u001b[38;5;124m\"\u001b[39m\u001b[38;5;124mCouldn\u001b[39m\u001b[38;5;124m'\u001b[39m\u001b[38;5;124mt create the workspace.\u001b[39m\u001b[38;5;124m\"\u001b[39m)\n",
      "File \u001b[1;32mc:\\Users\\ashwi\\anaconda3\\envs\\myenv\\lib\\site-packages\\azureml\\_project\\_commands.py:387\u001b[0m, in \u001b[0;36mcreate_or_update_workspace\u001b[1;34m(auth, resource_group_name, workspace_name, subscription_id, location, create_resource_group, sku, tags, friendly_name, storage_account, key_vault, app_insights, containerRegistry, adb_workspace, primary_user_assigned_identity, cmk_keyvault, resource_cmk_uri, hbi_workspace, default_cpu_compute_target, default_gpu_compute_target, private_endpoint_config, private_endpoint_auto_approval, exist_ok, show_output, user_assigned_identity_for_cmk_encryption, system_datastores_auth_mode, v1_legacy_mode, is_update_dependent_resources, api_version)\u001b[0m\n\u001b[0;32m    384\u001b[0m         \u001b[38;5;28;01mraise\u001b[39;00m WorkspaceException(\u001b[38;5;124m\"\u001b[39m\u001b[38;5;124mResource group was not found.\u001b[39m\u001b[38;5;124m\"\u001b[39m)\n\u001b[0;32m    386\u001b[0m \u001b[38;5;28;01mfrom\u001b[39;00m \u001b[38;5;21;01mazureml\u001b[39;00m\u001b[38;5;21;01m.\u001b[39;00m\u001b[38;5;21;01m_workspace\u001b[39;00m\u001b[38;5;21;01m.\u001b[39;00m\u001b[38;5;21;01mcustom\u001b[39;00m \u001b[38;5;28;01mimport\u001b[39;00m ml_workspace_create_resources\n\u001b[1;32m--> 387\u001b[0m \u001b[38;5;28;01mreturn\u001b[39;00m \u001b[43mml_workspace_create_resources\u001b[49m\u001b[43m(\u001b[49m\n\u001b[0;32m    388\u001b[0m \u001b[43m    \u001b[49m\u001b[43mauth\u001b[49m\u001b[43m,\u001b[49m\u001b[43m \u001b[49m\u001b[43mauth\u001b[49m\u001b[38;5;241;43m.\u001b[39;49m\u001b[43m_get_service_client\u001b[49m\u001b[43m(\u001b[49m\n\u001b[0;32m    389\u001b[0m \u001b[43m\u001b[49m\u001b[43mAzureMachineLearningWorkspaces\u001b[49m\u001b[43m,\u001b[49m\u001b[43m \u001b[49m\u001b[43msubscription_id\u001b[49m\u001b[43m)\u001b[49m\u001b[38;5;241;43m.\u001b[39;49m\u001b[43mworkspaces\u001b[49m\u001b[43m,\u001b[49m\n\u001b[0;32m    390\u001b[0m \u001b[43m    \u001b[49m\u001b[43mresource_group_name\u001b[49m\u001b[43m,\u001b[49m\n\u001b[0;32m    391\u001b[0m \u001b[43m    \u001b[49m\u001b[43mworkspace_name\u001b[49m\u001b[43m,\u001b[49m\n\u001b[0;32m    392\u001b[0m \u001b[43m    \u001b[49m\u001b[43mlocation\u001b[49m\u001b[43m,\u001b[49m\n\u001b[0;32m    393\u001b[0m \u001b[43m    \u001b[49m\u001b[43mvnet_location\u001b[49m\u001b[38;5;241;43m=\u001b[39;49m\u001b[43mvnet_location\u001b[49m\u001b[43m,\u001b[49m\n\u001b[0;32m    394\u001b[0m \u001b[43m    \u001b[49m\u001b[43msubscription_id\u001b[49m\u001b[38;5;241;43m=\u001b[39;49m\u001b[43msubscription_id\u001b[49m\u001b[43m,\u001b[49m\n\u001b[0;32m    395\u001b[0m \u001b[43m    \u001b[49m\u001b[43mstorage_account\u001b[49m\u001b[38;5;241;43m=\u001b[39;49m\u001b[43mstorage_account\u001b[49m\u001b[43m,\u001b[49m\n\u001b[0;32m    396\u001b[0m \u001b[43m    \u001b[49m\u001b[43mkey_vault\u001b[49m\u001b[38;5;241;43m=\u001b[39;49m\u001b[43mkey_vault\u001b[49m\u001b[43m,\u001b[49m\n\u001b[0;32m    397\u001b[0m \u001b[43m    \u001b[49m\u001b[43mapp_insights\u001b[49m\u001b[38;5;241;43m=\u001b[39;49m\u001b[43mapp_insights\u001b[49m\u001b[43m,\u001b[49m\n\u001b[0;32m    398\u001b[0m \u001b[43m    \u001b[49m\u001b[43mcontainerRegistry\u001b[49m\u001b[38;5;241;43m=\u001b[39;49m\u001b[43mcontainerRegistry\u001b[49m\u001b[43m,\u001b[49m\n\u001b[0;32m    399\u001b[0m \u001b[43m    \u001b[49m\u001b[43madbWorkspace\u001b[49m\u001b[38;5;241;43m=\u001b[39;49m\u001b[43madb_workspace\u001b[49m\u001b[43m,\u001b[49m\n\u001b[0;32m    400\u001b[0m \u001b[43m    \u001b[49m\u001b[43mfriendly_name\u001b[49m\u001b[38;5;241;43m=\u001b[39;49m\u001b[43mfriendly_name\u001b[49m\u001b[43m,\u001b[49m\n\u001b[0;32m    401\u001b[0m \u001b[43m    \u001b[49m\u001b[43mprimary_user_assigned_identity\u001b[49m\u001b[38;5;241;43m=\u001b[39;49m\u001b[43mprimary_user_assigned_identity\u001b[49m\u001b[43m,\u001b[49m\n\u001b[0;32m    402\u001b[0m \u001b[43m    \u001b[49m\u001b[43mcmk_keyvault\u001b[49m\u001b[38;5;241;43m=\u001b[39;49m\u001b[43mcmk_keyvault\u001b[49m\u001b[43m,\u001b[49m\n\u001b[0;32m    403\u001b[0m \u001b[43m    \u001b[49m\u001b[43mresource_cmk_uri\u001b[49m\u001b[38;5;241;43m=\u001b[39;49m\u001b[43mresource_cmk_uri\u001b[49m\u001b[43m,\u001b[49m\n\u001b[0;32m    404\u001b[0m \u001b[43m    \u001b[49m\u001b[43mhbi_workspace\u001b[49m\u001b[38;5;241;43m=\u001b[39;49m\u001b[43mhbi_workspace\u001b[49m\u001b[43m,\u001b[49m\n\u001b[0;32m    405\u001b[0m \u001b[43m    \u001b[49m\u001b[43mdefault_cpu_compute_target\u001b[49m\u001b[38;5;241;43m=\u001b[39;49m\u001b[43mdefault_cpu_compute_target\u001b[49m\u001b[43m,\u001b[49m\n\u001b[0;32m    406\u001b[0m \u001b[43m    \u001b[49m\u001b[43mdefault_gpu_compute_target\u001b[49m\u001b[38;5;241;43m=\u001b[39;49m\u001b[43mdefault_gpu_compute_target\u001b[49m\u001b[43m,\u001b[49m\n\u001b[0;32m    407\u001b[0m \u001b[43m    \u001b[49m\u001b[43mprivate_endpoint_config\u001b[49m\u001b[38;5;241;43m=\u001b[39;49m\u001b[43mprivate_endpoint_config\u001b[49m\u001b[43m,\u001b[49m\n\u001b[0;32m    408\u001b[0m \u001b[43m    \u001b[49m\u001b[43mprivate_endpoint_auto_approval\u001b[49m\u001b[38;5;241;43m=\u001b[39;49m\u001b[43mprivate_endpoint_auto_approval\u001b[49m\u001b[43m,\u001b[49m\n\u001b[0;32m    409\u001b[0m \u001b[43m    \u001b[49m\u001b[43mexist_ok\u001b[49m\u001b[38;5;241;43m=\u001b[39;49m\u001b[43mexist_ok\u001b[49m\u001b[43m,\u001b[49m\n\u001b[0;32m    410\u001b[0m \u001b[43m    \u001b[49m\u001b[43mshow_output\u001b[49m\u001b[38;5;241;43m=\u001b[39;49m\u001b[43mshow_output\u001b[49m\u001b[43m,\u001b[49m\n\u001b[0;32m    411\u001b[0m \u001b[43m    \u001b[49m\u001b[43msku\u001b[49m\u001b[38;5;241;43m=\u001b[39;49m\u001b[43msku\u001b[49m\u001b[43m,\u001b[49m\n\u001b[0;32m    412\u001b[0m \u001b[43m    \u001b[49m\u001b[43mtags\u001b[49m\u001b[38;5;241;43m=\u001b[39;49m\u001b[43mtags\u001b[49m\u001b[43m,\u001b[49m\n\u001b[0;32m    413\u001b[0m \u001b[43m    \u001b[49m\u001b[43muser_assigned_identity_for_cmk_encryption\u001b[49m\u001b[38;5;241;43m=\u001b[39;49m\u001b[43muser_assigned_identity_for_cmk_encryption\u001b[49m\u001b[43m,\u001b[49m\n\u001b[0;32m    414\u001b[0m \u001b[43m    \u001b[49m\u001b[43msystem_datastores_auth_mode\u001b[49m\u001b[38;5;241;43m=\u001b[39;49m\u001b[43msystem_datastores_auth_mode\u001b[49m\u001b[43m,\u001b[49m\n\u001b[0;32m    415\u001b[0m \u001b[43m    \u001b[49m\u001b[43mv1_legacy_mode\u001b[49m\u001b[38;5;241;43m=\u001b[39;49m\u001b[43mv1_legacy_mode\u001b[49m\u001b[43m,\u001b[49m\n\u001b[0;32m    416\u001b[0m \u001b[43m    \u001b[49m\u001b[43mis_update_dependent_resources\u001b[49m\u001b[38;5;241;43m=\u001b[39;49m\u001b[43mis_update_dependent_resources\u001b[49m\u001b[43m,\u001b[49m\n\u001b[0;32m    417\u001b[0m \u001b[43m    \u001b[49m\u001b[43mapi_version\u001b[49m\u001b[38;5;241;43m=\u001b[39;49m\u001b[43mapi_version\u001b[49m\u001b[43m)\u001b[49m\n",
      "File \u001b[1;32mc:\\Users\\ashwi\\anaconda3\\envs\\myenv\\lib\\site-packages\\azureml\\_workspace\\custom.py:154\u001b[0m, in \u001b[0;36mml_workspace_create_resources\u001b[1;34m(auth, client, resource_group_name, workspace_name, location, vnet_location, subscription_id, friendly_name, storage_account, key_vault, app_insights, containerRegistry, adbWorkspace, primary_user_assigned_identity, cmk_keyvault, resource_cmk_uri, hbi_workspace, default_cpu_compute_target, default_gpu_compute_target, private_endpoint_config, private_endpoint_auto_approval, exist_ok, show_output, sku, tags, user_assigned_identity_for_cmk_encryption, system_datastores_auth_mode, v1_legacy_mode, is_update_dependent_resources, api_version)\u001b[0m\n\u001b[0;32m    152\u001b[0m     \u001b[38;5;28;01mexcept\u001b[39;00m \u001b[38;5;167;01mException\u001b[39;00m:\n\u001b[0;32m    153\u001b[0m         \u001b[38;5;28;01mpass\u001b[39;00m\n\u001b[1;32m--> 154\u001b[0m     \u001b[38;5;28;01mraise\u001b[39;00m WorkspaceException(\n\u001b[0;32m    155\u001b[0m         \u001b[38;5;124m\"\u001b[39m\u001b[38;5;124mUnable to create the workspace. \u001b[39m\u001b[38;5;132;01m{}\u001b[39;00m\u001b[38;5;124m\"\u001b[39m\u001b[38;5;241m.\u001b[39mformat(error_message),\n\u001b[0;32m    156\u001b[0m         inner_exception\u001b[38;5;241m=\u001b[39morchestrator\u001b[38;5;241m.\u001b[39merror)\n\u001b[0;32m    158\u001b[0m \u001b[38;5;28;01mif\u001b[39;00m private_endpoint_config:\n\u001b[0;32m    159\u001b[0m     \u001b[38;5;28;01mtry\u001b[39;00m:\n",
      "\u001b[1;31mWorkspaceException\u001b[0m: WorkspaceException:\n\tMessage: Unable to create the workspace. At least one resource deployment operation failed. Please list deployment operations for details. Please see https://aka.ms/arm-deployment-operations for usage details.\n\tInnerException Azure Error: DeploymentFailed\nMessage: At least one resource deployment operation failed. Please list deployment operations for details. Please see https://aka.ms/arm-deployment-operations for usage details.\nException Details:\n\tError Code: Conflict\n\tMessage: {'status': 'Failed', 'error': {'code': 'ResourceDeploymentFailure', 'message': \"The resource write operation failed to complete successfully, because it reached terminal provisioning state 'Failed'.\", 'details': [{'code': 'BadRequest', 'message': 'Soft-deleted workspace exists. Please purge or recover it. https://aka.ms/wsoftdelete'}]}}\n\tErrorResponse \n{\n    \"error\": {\n        \"message\": \"Unable to create the workspace. At least one resource deployment operation failed. Please list deployment operations for details. Please see https://aka.ms/arm-deployment-operations for usage details.\"\n    }\n}"
     ]
    }
   ],
   "source": [
    "import json\n",
    "import joblib\n",
    "import numpy as np\n",
    "from azureml.core import Workspace, Model, Environment\n",
    "from azureml.core.conda_dependencies import CondaDependencies\n",
    "from azureml.core.webservice import AciWebservice, Webservice\n",
    "from azureml.core.model import InferenceConfig\n",
    "\n",
    "# Initialize Workspace\n",
    "ws = Workspace.create(\n",
    "    name=Workspace_name,\n",
    "    subscription_id=subscription_id,\n",
    "    resource_group=resource_group,\n",
    "    location=region)\n",
    "print(f\"Workspace{Workspace_name} created\") # Assumes a config.json file in the same directory\n",
    "\n",
    "# Register Model (if not already registered)\n",
    "model = Model.register(workspace=ws,\n",
    "                       model_path=\"C:/Users/ashwi/OneDrive/Desktop/project/diamondPricePredictor/artifacts/model.pkl\",  # Local path to your model\n",
    "                       model_name=\"diamond_price_predictions\")          # Name under which the model is registered\n",
    "\n",
    "# Define the environment\n",
    "env = Environment(name=\"my-env\")\n",
    "conda_dep = CondaDependencies()\n",
    "\n",
    "# Add required libraries\n",
    "conda_dep.add_conda_package(\"xgboost\")\n",
    "conda_dep.add_conda_package(\"scikit-learn\")\n",
    "conda_dep.add_conda_package(\"numpy\")\n",
    "conda_dep.add_pip_package(\"joblib\")\n",
    "\n",
    "# Attach the dependencies to the environment\n",
    "env.python.conda_dependencies = conda_dep\n",
    "\n",
    "# Create Inference Configuration (Scoring script)\n",
    "inference_config = InferenceConfig(entry_script=\"C:/Users/ashwi/OneDrive/Desktop/project/diamondPricePredictor/score.py\", environment=env)\n",
    "\n",
    "# Define ACI (Azure Container Instances) configuration\n",
    "aci_config = AciWebservice.deploy_configuration(cpu_cores=1, memory_gb=1, auth_enabled=True)\n",
    "\n",
    "# Deploy the model\n",
    "service = Model.deploy(workspace=ws,\n",
    "                       name=\"your-service-name\",\n",
    "                       models=[model],\n",
    "                       inference_config=inference_config,\n",
    "                       deployment_config=aci_config,\n",
    "                       overwrite=True)\n",
    "\n",
    "service.wait_for_deployment(show_output=True)\n",
    "\n",
    "# Check service state\n",
    "print(service.state)\n",
    "\n",
    "# Retrieve Logs\n",
    "print(service.get_logs())\n",
    "\n"
   ]
  },
  {
   "cell_type": "code",
   "execution_count": null,
   "metadata": {},
   "outputs": [],
   "source": []
  }
 ],
 "metadata": {
  "kernelspec": {
   "display_name": "myenv",
   "language": "python",
   "name": "python3"
  },
  "language_info": {
   "codemirror_mode": {
    "name": "ipython",
    "version": 3
   },
   "file_extension": ".py",
   "mimetype": "text/x-python",
   "name": "python",
   "nbconvert_exporter": "python",
   "pygments_lexer": "ipython3",
   "version": "3.8.19"
  }
 },
 "nbformat": 4,
 "nbformat_minor": 2
}
