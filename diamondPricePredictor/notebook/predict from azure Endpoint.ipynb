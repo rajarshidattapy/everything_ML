{
 "cells": [
  {
   "cell_type": "code",
   "execution_count": null,
   "metadata": {},
   "outputs": [],
   "source": [
    "import requests\n",
    "import json\n",
    "input_data =[1,0.3,'Ideal','E','SI1',62.1,58.0,4.27,4.29,2.66,499]\n",
    "\n",
    "input_data_json = json.dumps({\"data\":[input_data]})\n",
    "scoring_uri=\"\"\n",
    "headers ={\"Content-Type\":\"application/json\"}\n",
    "\n",
    "response=requests.post(scoring_uri,data=input_data_json,headers=headers)\n",
    "\n",
    "if response.status_code==200:\n",
    "    result=json.loads(response.json())\n",
    "    prediction = result[\"result\"][0]\n",
    "    print(f\"Predction: {prediction}\")\n",
    "else:\n",
    "    print(f\"Error: {response.text}\")\n",
    "        "
   ]
  }
 ],
 "metadata": {
  "kernelspec": {
   "display_name": "myenv",
   "language": "python",
   "name": "python3"
  },
  "language_info": {
   "name": "python",
   "version": "3.8.19"
  }
 },
 "nbformat": 4,
 "nbformat_minor": 2
}
